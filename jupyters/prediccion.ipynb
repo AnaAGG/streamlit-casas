{
 "cells": [
  {
   "cell_type": "code",
   "execution_count": 1,
   "metadata": {},
   "outputs": [],
   "source": [
    "import pandas as pd\n",
    "import pickle\n",
    "\n",
    "# cargamos los transformadores y el modelo entrenado\n",
    "with open('target_encoder.pkl', 'rb') as f:\n",
    "    target_encoder = pickle.load(f)\n",
    "\n",
    "with open('scaler.pkl', 'rb') as f:\n",
    "    scaler = pickle.load(f)\n",
    "\n",
    "with open('random_forest_model.pkl', 'rb') as f:\n",
    "    model = pickle.load(f)\n",
    "\n",
    "# Datos de una nueva casa para predicción\n",
    "new_house = pd.DataFrame({\n",
    "    'Neighborhood': ['D'],  # Nueva categoría no vista\n",
    "    'HouseType': ['Detached'],\n",
    "    'Rooms': [4],\n",
    "    'Area': [150]\n",
    "})\n",
    "\n",
    "# Identificar las columnas categóricas y numéricas\n",
    "columnas_categoricas = ['Neighborhood', 'HouseType']\n",
    "columnas_numericas = ['Rooms', 'Area']\n"
   ]
  },
  {
   "cell_type": "code",
   "execution_count": 2,
   "metadata": {},
   "outputs": [
    {
     "name": "stdout",
     "output_type": "stream",
     "text": [
      "Nueva Casa:\n"
     ]
    },
    {
     "data": {
      "text/html": [
       "<div>\n",
       "<style scoped>\n",
       "    .dataframe tbody tr th:only-of-type {\n",
       "        vertical-align: middle;\n",
       "    }\n",
       "\n",
       "    .dataframe tbody tr th {\n",
       "        vertical-align: top;\n",
       "    }\n",
       "\n",
       "    .dataframe thead th {\n",
       "        text-align: right;\n",
       "    }\n",
       "</style>\n",
       "<table border=\"1\" class=\"dataframe\">\n",
       "  <thead>\n",
       "    <tr style=\"text-align: right;\">\n",
       "      <th></th>\n",
       "      <th>Neighborhood</th>\n",
       "      <th>HouseType</th>\n",
       "      <th>Rooms</th>\n",
       "      <th>Area</th>\n",
       "    </tr>\n",
       "  </thead>\n",
       "  <tbody>\n",
       "    <tr>\n",
       "      <th>0</th>\n",
       "      <td>D</td>\n",
       "      <td>Detached</td>\n",
       "      <td>4</td>\n",
       "      <td>150</td>\n",
       "    </tr>\n",
       "  </tbody>\n",
       "</table>\n",
       "</div>"
      ],
      "text/plain": [
       "  Neighborhood HouseType  Rooms  Area\n",
       "0            D  Detached      4   150"
      ]
     },
     "metadata": {},
     "output_type": "display_data"
    },
    {
     "name": "stdout",
     "output_type": "stream",
     "text": [
      "\n",
      "Predicción del precio de la casa: $304,456.94\n"
     ]
    }
   ],
   "source": [
    "# Aplicar el TargetEncoder a las columnas categóricas\n",
    "new_house_encoded = new_house.copy()\n",
    "\n",
    "# Escalar las columnas numéricas\n",
    "new_house_encoded[columnas_numericas] = scaler.transform(new_house_encoded[columnas_numericas])\n",
    "\n",
    "# transformar las categoricas\n",
    "new_house_encoded[new_house.columns] = target_encoder.transform(new_house)\n",
    "\n",
    "\n",
    "# Realizar la predicción\n",
    "prediction = model.predict(new_house_encoded)\n",
    "\n",
    "# Mostrar el resultado\n",
    "print(\"Nueva Casa:\")\n",
    "display(new_house)\n",
    "print(f\"\\nPredicción del precio de la casa: ${prediction[0]:,.2f}\")"
   ]
  }
 ],
 "metadata": {
  "kernelspec": {
   "display_name": "contenido",
   "language": "python",
   "name": "python3"
  },
  "language_info": {
   "codemirror_mode": {
    "name": "ipython",
    "version": 3
   },
   "file_extension": ".py",
   "mimetype": "text/x-python",
   "name": "python",
   "nbconvert_exporter": "python",
   "pygments_lexer": "ipython3",
   "version": "3.11.8"
  }
 },
 "nbformat": 4,
 "nbformat_minor": 2
}
